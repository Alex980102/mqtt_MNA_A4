{
 "cells": [
  {
   "cell_type": "code",
   "execution_count": 1,
   "metadata": {},
   "outputs": [
    {
     "name": "stdout",
     "output_type": "stream",
     "text": [
      "Requirement already satisfied: paho-mqtt in /opt/homebrew/Caskroom/miniforge/base/envs/tensorflow29/lib/python3.9/site-packages (from -r requirements.txt (line 1)) (1.6.1)\n",
      "Requirement already satisfied: pandas in /opt/homebrew/Caskroom/miniforge/base/envs/tensorflow29/lib/python3.9/site-packages (from -r requirements.txt (line 2)) (1.4.2)\n",
      "Requirement already satisfied: python-dotenv in /opt/homebrew/Caskroom/miniforge/base/envs/tensorflow29/lib/python3.9/site-packages (from -r requirements.txt (line 3)) (0.20.0)\n",
      "Requirement already satisfied: python-dateutil>=2.8.1 in /opt/homebrew/Caskroom/miniforge/base/envs/tensorflow29/lib/python3.9/site-packages (from pandas->-r requirements.txt (line 2)) (2.8.2)\n",
      "Requirement already satisfied: pytz>=2020.1 in /opt/homebrew/Caskroom/miniforge/base/envs/tensorflow29/lib/python3.9/site-packages (from pandas->-r requirements.txt (line 2)) (2022.1)\n",
      "Requirement already satisfied: numpy>=1.20.0 in /opt/homebrew/Caskroom/miniforge/base/envs/tensorflow29/lib/python3.9/site-packages (from pandas->-r requirements.txt (line 2)) (1.22.3)\n",
      "Requirement already satisfied: six>=1.5 in /opt/homebrew/Caskroom/miniforge/base/envs/tensorflow29/lib/python3.9/site-packages (from python-dateutil>=2.8.1->pandas->-r requirements.txt (line 2)) (1.16.0)\n",
      "Note: you may need to restart the kernel to use updated packages.\n"
     ]
    }
   ],
   "source": [
    "%pip install -r requirements.txt"
   ]
  },
  {
   "cell_type": "code",
   "execution_count": 2,
   "metadata": {},
   "outputs": [
    {
     "data": {
      "text/plain": [
       "True"
      ]
     },
     "execution_count": 2,
     "metadata": {},
     "output_type": "execute_result"
    }
   ],
   "source": [
    "import pandas as pd\n",
    "import paho.mqtt.client as mqtt\n",
    "import time\n",
    "from random import randint\n",
    "import os\n",
    "from dotenv import load_dotenv\n",
    "load_dotenv()"
   ]
  },
  {
   "cell_type": "code",
   "execution_count": 3,
   "metadata": {},
   "outputs": [
    {
     "data": {
      "text/html": [
       "<div>\n",
       "<style scoped>\n",
       "    .dataframe tbody tr th:only-of-type {\n",
       "        vertical-align: middle;\n",
       "    }\n",
       "\n",
       "    .dataframe tbody tr th {\n",
       "        vertical-align: top;\n",
       "    }\n",
       "\n",
       "    .dataframe thead th {\n",
       "        text-align: right;\n",
       "    }\n",
       "</style>\n",
       "<table border=\"1\" class=\"dataframe\">\n",
       "  <thead>\n",
       "    <tr style=\"text-align: right;\">\n",
       "      <th></th>\n",
       "      <th>Temperature</th>\n",
       "      <th>Humidity</th>\n",
       "      <th>Light</th>\n",
       "      <th>CO2</th>\n",
       "      <th>HumidityRatio</th>\n",
       "    </tr>\n",
       "  </thead>\n",
       "  <tbody>\n",
       "    <tr>\n",
       "      <th>0</th>\n",
       "      <td>22.00</td>\n",
       "      <td>27.1000</td>\n",
       "      <td>0.00</td>\n",
       "      <td>557.000000</td>\n",
       "      <td>0.004431</td>\n",
       "    </tr>\n",
       "    <tr>\n",
       "      <th>1</th>\n",
       "      <td>20.50</td>\n",
       "      <td>21.2900</td>\n",
       "      <td>0.00</td>\n",
       "      <td>435.500000</td>\n",
       "      <td>0.003168</td>\n",
       "    </tr>\n",
       "    <tr>\n",
       "      <th>2</th>\n",
       "      <td>20.70</td>\n",
       "      <td>22.7900</td>\n",
       "      <td>0.00</td>\n",
       "      <td>455.500000</td>\n",
       "      <td>0.003435</td>\n",
       "    </tr>\n",
       "    <tr>\n",
       "      <th>3</th>\n",
       "      <td>20.26</td>\n",
       "      <td>33.0600</td>\n",
       "      <td>0.00</td>\n",
       "      <td>452.333333</td>\n",
       "      <td>0.004861</td>\n",
       "    </tr>\n",
       "    <tr>\n",
       "      <th>4</th>\n",
       "      <td>23.10</td>\n",
       "      <td>17.0000</td>\n",
       "      <td>283.25</td>\n",
       "      <td>451.000000</td>\n",
       "      <td>0.002965</td>\n",
       "    </tr>\n",
       "    <tr>\n",
       "      <th>...</th>\n",
       "      <td>...</td>\n",
       "      <td>...</td>\n",
       "      <td>...</td>\n",
       "      <td>...</td>\n",
       "      <td>...</td>\n",
       "    </tr>\n",
       "    <tr>\n",
       "      <th>9994</th>\n",
       "      <td>22.00</td>\n",
       "      <td>21.3925</td>\n",
       "      <td>469.00</td>\n",
       "      <td>880.750000</td>\n",
       "      <td>0.003492</td>\n",
       "    </tr>\n",
       "    <tr>\n",
       "      <th>9995</th>\n",
       "      <td>285.29</td>\n",
       "      <td>26.2000</td>\n",
       "      <td>48.50</td>\n",
       "      <td>421.500000</td>\n",
       "      <td>0.003853</td>\n",
       "    </tr>\n",
       "    <tr>\n",
       "      <th>9996</th>\n",
       "      <td>22.79</td>\n",
       "      <td>17.1000</td>\n",
       "      <td>150.00</td>\n",
       "      <td>443.500000</td>\n",
       "      <td>0.002926</td>\n",
       "    </tr>\n",
       "    <tr>\n",
       "      <th>9997</th>\n",
       "      <td>19.39</td>\n",
       "      <td>26.8900</td>\n",
       "      <td>0.00</td>\n",
       "      <td>471.000000</td>\n",
       "      <td>0.003739</td>\n",
       "    </tr>\n",
       "    <tr>\n",
       "      <th>9998</th>\n",
       "      <td>21.60</td>\n",
       "      <td>18.5000</td>\n",
       "      <td>53.75</td>\n",
       "      <td>446.500000</td>\n",
       "      <td>0.002945</td>\n",
       "    </tr>\n",
       "  </tbody>\n",
       "</table>\n",
       "<p>9999 rows × 5 columns</p>\n",
       "</div>"
      ],
      "text/plain": [
       "      Temperature  Humidity   Light         CO2  HumidityRatio\n",
       "0           22.00   27.1000    0.00  557.000000       0.004431\n",
       "1           20.50   21.2900    0.00  435.500000       0.003168\n",
       "2           20.70   22.7900    0.00  455.500000       0.003435\n",
       "3           20.26   33.0600    0.00  452.333333       0.004861\n",
       "4           23.10   17.0000  283.25  451.000000       0.002965\n",
       "...           ...       ...     ...         ...            ...\n",
       "9994        22.00   21.3925  469.00  880.750000       0.003492\n",
       "9995       285.29   26.2000   48.50  421.500000       0.003853\n",
       "9996        22.79   17.1000  150.00  443.500000       0.002926\n",
       "9997        19.39   26.8900    0.00  471.000000       0.003739\n",
       "9998        21.60   18.5000   53.75  446.500000       0.002945\n",
       "\n",
       "[9999 rows x 5 columns]"
      ]
     },
     "execution_count": 3,
     "metadata": {},
     "output_type": "execute_result"
    }
   ],
   "source": [
    "df = pd.read_csv('https://raw.githubusercontent.com/Alex980102/mqtt_MNA_A4/main/db/DatosPruebaMQTT.csv', index_col=0)\n",
    "df"
   ]
  },
  {
   "cell_type": "code",
   "execution_count": 4,
   "metadata": {},
   "outputs": [
    {
     "name": "stdout",
     "output_type": "stream",
     "text": [
      "<class 'pandas.core.frame.DataFrame'>\n",
      "Int64Index: 9898 entries, 0 to 9998\n",
      "Data columns (total 5 columns):\n",
      " #   Column         Non-Null Count  Dtype  \n",
      "---  ------         --------------  -----  \n",
      " 0   Temperature    9898 non-null   float64\n",
      " 1   Humidity       9898 non-null   float64\n",
      " 2   Light          9898 non-null   float64\n",
      " 3   CO2            9898 non-null   float64\n",
      " 4   HumidityRatio  9898 non-null   float64\n",
      "dtypes: float64(5)\n",
      "memory usage: 464.0 KB\n"
     ]
    }
   ],
   "source": [
    "df = df.dropna()\n",
    "df.info()"
   ]
  },
  {
   "cell_type": "code",
   "execution_count": 5,
   "metadata": {},
   "outputs": [
    {
     "data": {
      "text/html": [
       "<div>\n",
       "<style scoped>\n",
       "    .dataframe tbody tr th:only-of-type {\n",
       "        vertical-align: middle;\n",
       "    }\n",
       "\n",
       "    .dataframe tbody tr th {\n",
       "        vertical-align: top;\n",
       "    }\n",
       "\n",
       "    .dataframe thead th {\n",
       "        text-align: right;\n",
       "    }\n",
       "</style>\n",
       "<table border=\"1\" class=\"dataframe\">\n",
       "  <thead>\n",
       "    <tr style=\"text-align: right;\">\n",
       "      <th></th>\n",
       "      <th>Temperature</th>\n",
       "      <th>Humidity</th>\n",
       "      <th>Light</th>\n",
       "      <th>CO2</th>\n",
       "      <th>HumidityRatio</th>\n",
       "    </tr>\n",
       "  </thead>\n",
       "  <tbody>\n",
       "    <tr>\n",
       "      <th>count</th>\n",
       "      <td>9898.000000</td>\n",
       "      <td>9898.000000</td>\n",
       "      <td>9898.000000</td>\n",
       "      <td>9898.000000</td>\n",
       "      <td>9898.000000</td>\n",
       "    </tr>\n",
       "    <tr>\n",
       "      <th>mean</th>\n",
       "      <td>85.289824</td>\n",
       "      <td>478.969754</td>\n",
       "      <td>120.232916</td>\n",
       "      <td>607.146749</td>\n",
       "      <td>0.003861</td>\n",
       "    </tr>\n",
       "    <tr>\n",
       "      <th>std</th>\n",
       "      <td>199.728631</td>\n",
       "      <td>1701.386088</td>\n",
       "      <td>195.555121</td>\n",
       "      <td>314.453658</td>\n",
       "      <td>0.000851</td>\n",
       "    </tr>\n",
       "    <tr>\n",
       "      <th>min</th>\n",
       "      <td>19.000000</td>\n",
       "      <td>16.745000</td>\n",
       "      <td>0.000000</td>\n",
       "      <td>412.750000</td>\n",
       "      <td>0.002674</td>\n",
       "    </tr>\n",
       "    <tr>\n",
       "      <th>25%</th>\n",
       "      <td>19.790000</td>\n",
       "      <td>20.650000</td>\n",
       "      <td>0.000000</td>\n",
       "      <td>439.333333</td>\n",
       "      <td>0.003084</td>\n",
       "    </tr>\n",
       "    <tr>\n",
       "      <th>50%</th>\n",
       "      <td>20.600000</td>\n",
       "      <td>26.650000</td>\n",
       "      <td>0.000000</td>\n",
       "      <td>454.000000</td>\n",
       "      <td>0.003798</td>\n",
       "    </tr>\n",
       "    <tr>\n",
       "      <th>75%</th>\n",
       "      <td>21.790000</td>\n",
       "      <td>31.500000</td>\n",
       "      <td>263.250000</td>\n",
       "      <td>642.666667</td>\n",
       "      <td>0.004350</td>\n",
       "    </tr>\n",
       "    <tr>\n",
       "      <th>max</th>\n",
       "      <td>1019.500000</td>\n",
       "      <td>10026.000000</td>\n",
       "      <td>1546.333333</td>\n",
       "      <td>2028.500000</td>\n",
       "      <td>0.006476</td>\n",
       "    </tr>\n",
       "  </tbody>\n",
       "</table>\n",
       "</div>"
      ],
      "text/plain": [
       "       Temperature      Humidity        Light          CO2  HumidityRatio\n",
       "count  9898.000000   9898.000000  9898.000000  9898.000000    9898.000000\n",
       "mean     85.289824    478.969754   120.232916   607.146749       0.003861\n",
       "std     199.728631   1701.386088   195.555121   314.453658       0.000851\n",
       "min      19.000000     16.745000     0.000000   412.750000       0.002674\n",
       "25%      19.790000     20.650000     0.000000   439.333333       0.003084\n",
       "50%      20.600000     26.650000     0.000000   454.000000       0.003798\n",
       "75%      21.790000     31.500000   263.250000   642.666667       0.004350\n",
       "max    1019.500000  10026.000000  1546.333333  2028.500000       0.006476"
      ]
     },
     "execution_count": 5,
     "metadata": {},
     "output_type": "execute_result"
    }
   ],
   "source": [
    "df.describe()"
   ]
  },
  {
   "cell_type": "code",
   "execution_count": 6,
   "metadata": {},
   "outputs": [],
   "source": [
    "temp = df.Temperature\n",
    "hum = df.Humidity\n",
    "co = df.CO2"
   ]
  },
  {
   "cell_type": "code",
   "execution_count": 7,
   "metadata": {},
   "outputs": [
    {
     "name": "stdout",
     "output_type": "stream",
     "text": [
      "Broker: broker.hivemq.com\n"
     ]
    }
   ],
   "source": [
    "# broker_list = ['broker.hivemq.com', 'mqtt.eclipseprojects.io', 'test.mosquitto.org']\n",
    "print(f\"Broker: {os.environ.get('BROKER')}\")"
   ]
  },
  {
   "cell_type": "code",
   "execution_count": 8,
   "metadata": {},
   "outputs": [
    {
     "name": "stdout",
     "output_type": "stream",
     "text": [
      "Just published Temperatura: 22.0, Humedad: 27.1, CO2: 557.0 al topic MNA/EQUIPO/09\n",
      "Just published Temperatura: 20.5, Humedad: 21.29, CO2: 435.5 al topic MNA/EQUIPO/09\n",
      "Just published Temperatura: 20.7, Humedad: 22.79, CO2: 455.5 al topic MNA/EQUIPO/09\n",
      "Just published Temperatura: 20.26, Humedad: 33.06, CO2: 452.3333333 al topic MNA/EQUIPO/09\n",
      "Just published Temperatura: 23.1, Humedad: 17.0, CO2: 451.0 al topic MNA/EQUIPO/09\n",
      "Just published Temperatura: 20.5, Humedad: 33.09, CO2: 572.0 al topic MNA/EQUIPO/09\n",
      "Just published Temperatura: 19.89, Humedad: 19.1, CO2: 433.0 al topic MNA/EQUIPO/09\n",
      "Just published Temperatura: 19.39, Humedad: 3174.0, CO2: 461.0 al topic MNA/EQUIPO/09\n",
      "Just published Temperatura: 20.29, Humedad: 19.1, CO2: 466.0 al topic MNA/EQUIPO/09\n",
      "Just published Temperatura: 20.6, Humedad: 19.5, CO2: 440.0 al topic MNA/EQUIPO/09\n",
      "Just published Temperatura: 19.29, Humedad: 31.2, CO2: 437.0 al topic MNA/EQUIPO/09\n",
      "Just published Temperatura: 20.39, Humedad: 21.29, CO2: 443.0 al topic MNA/EQUIPO/09\n",
      "Just published Temperatura: 20.29, Humedad: 33.09, CO2: 452.6666667 al topic MNA/EQUIPO/09\n",
      "Sesión interrumpida\n"
     ]
    }
   ],
   "source": [
    "Connected = True\n",
    "mqttBroker = os.environ.get('BROKER')\n",
    "port = 1883\n",
    "tag = \"MNA/EQUIPO/09\"\n",
    "client = mqtt.Client(\"Python\")\n",
    "client.connect(host=mqttBroker, port=port)\n",
    "\n",
    "while Connected != False:\n",
    "    try:\n",
    "        for i,j,k in zip(temp, hum, co):\n",
    "            publicar = f'Temperatura: {i}, Humedad: {j}, CO2: {k}'\n",
    "            client.publish(tag, publicar)\n",
    "            print(f\"Just published {publicar} al topic {tag}\")\n",
    "            time.sleep(1)\n",
    "    except KeyboardInterrupt:\n",
    "        print('Sesión interrumpida')\n",
    "        client.disconnect()\n",
    "        Connected = False"
   ]
  }
 ],
 "metadata": {
  "kernelspec": {
   "display_name": "Python 3.9.12 ('tensorflow29')",
   "language": "python",
   "name": "python3"
  },
  "language_info": {
   "codemirror_mode": {
    "name": "ipython",
    "version": 3
   },
   "file_extension": ".py",
   "mimetype": "text/x-python",
   "name": "python",
   "nbconvert_exporter": "python",
   "pygments_lexer": "ipython3",
   "version": "3.9.12"
  },
  "orig_nbformat": 4,
  "vscode": {
   "interpreter": {
    "hash": "a8b51283e19ea4f556ad153052c0fc7e7aba70c909e803e78c247e2229cf6367"
   }
  }
 },
 "nbformat": 4,
 "nbformat_minor": 2
}
