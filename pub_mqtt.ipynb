{
  "cells": [
    {
      "cell_type": "markdown",
      "source": [
        "Para abrir el cliente de este mqtt usar el siguiente enlace\n",
        "\n",
        "<a href=\"https://colab.research.google.com/github/Alex980102/mqtt_MNA_A4/blob/main/client_mqtt.ipynb\">\n",
        "  <img src=\"https://colab.research.google.com/assets/colab-badge.svg\" alt=\"Open In Colab\"/>\n",
        "</a>\n",
        "\n",
        "Para iniciar este proyecto solo debemos de dar click en Entorno de ejecución > Ejecutar todo"
      ],
      "metadata": {
        "id": "XvK7hH0ZcoDr"
      }
    },
    {
      "cell_type": "code",
      "source": [
        "!git clone https://github.com/Alex980102/mqtt_MNA_A4.git"
      ],
      "metadata": {
        "id": "EX6dD5QZbiv5",
        "outputId": "30e49b33-3e8f-4eeb-8b00-6f5c278c28c8",
        "colab": {
          "base_uri": "https://localhost:8080/"
        }
      },
      "execution_count": 1,
      "outputs": [
        {
          "output_type": "stream",
          "name": "stdout",
          "text": [
            "fatal: destination path 'mqtt_MNA_A4' already exists and is not an empty directory.\n"
          ]
        }
      ]
    },
    {
      "cell_type": "code",
      "source": [
        "%cd /content/mqtt_MNA_A4/"
      ],
      "metadata": {
        "id": "J867FflJb157",
        "outputId": "e6e4dee1-bb29-4eff-9b00-65c98a1c5752",
        "colab": {
          "base_uri": "https://localhost:8080/"
        }
      },
      "execution_count": 2,
      "outputs": [
        {
          "output_type": "stream",
          "name": "stdout",
          "text": [
            "/content/mqtt_MNA_A4\n"
          ]
        }
      ]
    },
    {
      "cell_type": "code",
      "execution_count": 3,
      "metadata": {
        "id": "bpQbvA_dbhgu",
        "outputId": "12d27253-3889-4708-80e6-fc4f3a822237",
        "colab": {
          "base_uri": "https://localhost:8080/"
        }
      },
      "outputs": [
        {
          "output_type": "stream",
          "name": "stdout",
          "text": [
            "Looking in indexes: https://pypi.org/simple, https://us-python.pkg.dev/colab-wheels/public/simple/\n",
            "Requirement already satisfied: paho-mqtt in /usr/local/lib/python3.7/dist-packages (from -r requirements.txt (line 1)) (1.6.1)\n",
            "Requirement already satisfied: pandas in /usr/local/lib/python3.7/dist-packages (from -r requirements.txt (line 2)) (1.3.5)\n",
            "Requirement already satisfied: python-dotenv in /usr/local/lib/python3.7/dist-packages (from -r requirements.txt (line 3)) (0.20.0)\n",
            "Requirement already satisfied: pytz>=2017.3 in /usr/local/lib/python3.7/dist-packages (from pandas->-r requirements.txt (line 2)) (2022.1)\n",
            "Requirement already satisfied: numpy>=1.17.3 in /usr/local/lib/python3.7/dist-packages (from pandas->-r requirements.txt (line 2)) (1.21.6)\n",
            "Requirement already satisfied: python-dateutil>=2.7.3 in /usr/local/lib/python3.7/dist-packages (from pandas->-r requirements.txt (line 2)) (2.8.2)\n",
            "Requirement already satisfied: six>=1.5 in /usr/local/lib/python3.7/dist-packages (from python-dateutil>=2.7.3->pandas->-r requirements.txt (line 2)) (1.15.0)\n"
          ]
        }
      ],
      "source": [
        "!pip install -r requirements.txt"
      ]
    },
    {
      "cell_type": "code",
      "execution_count": 4,
      "metadata": {
        "id": "YNVCtrn3bhgy",
        "outputId": "f05e958f-50c4-45ea-e77a-e261bbfa5654",
        "colab": {
          "base_uri": "https://localhost:8080/"
        }
      },
      "outputs": [
        {
          "output_type": "execute_result",
          "data": {
            "text/plain": [
              "True"
            ]
          },
          "metadata": {},
          "execution_count": 4
        }
      ],
      "source": [
        "import pandas as pd\n",
        "import paho.mqtt.client as mqtt\n",
        "import time\n",
        "from random import randint\n",
        "import os\n",
        "import json\n",
        "from dotenv import load_dotenv\n",
        "load_dotenv()"
      ]
    },
    {
      "cell_type": "code",
      "execution_count": 5,
      "metadata": {
        "id": "i9wgbzKSbhgz",
        "outputId": "f09388bc-7c6c-4451-b10c-286a9cbcd802",
        "colab": {
          "base_uri": "https://localhost:8080/",
          "height": 424
        }
      },
      "outputs": [
        {
          "output_type": "execute_result",
          "data": {
            "text/plain": [
              "      Temperature  Humidity   Light         CO2  HumidityRatio\n",
              "0           22.00   27.1000    0.00  557.000000       0.004431\n",
              "1           20.50   21.2900    0.00  435.500000       0.003168\n",
              "2           20.70   22.7900    0.00  455.500000       0.003435\n",
              "3           20.26   33.0600    0.00  452.333333       0.004861\n",
              "4           23.10   17.0000  283.25  451.000000       0.002965\n",
              "...           ...       ...     ...         ...            ...\n",
              "9994        22.00   21.3925  469.00  880.750000       0.003492\n",
              "9995       285.29   26.2000   48.50  421.500000       0.003853\n",
              "9996        22.79   17.1000  150.00  443.500000       0.002926\n",
              "9997        19.39   26.8900    0.00  471.000000       0.003739\n",
              "9998        21.60   18.5000   53.75  446.500000       0.002945\n",
              "\n",
              "[9999 rows x 5 columns]"
            ],
            "text/html": [
              "\n",
              "  <div id=\"df-a2d8351e-cd1b-4aaa-bc70-daaaaac92265\">\n",
              "    <div class=\"colab-df-container\">\n",
              "      <div>\n",
              "<style scoped>\n",
              "    .dataframe tbody tr th:only-of-type {\n",
              "        vertical-align: middle;\n",
              "    }\n",
              "\n",
              "    .dataframe tbody tr th {\n",
              "        vertical-align: top;\n",
              "    }\n",
              "\n",
              "    .dataframe thead th {\n",
              "        text-align: right;\n",
              "    }\n",
              "</style>\n",
              "<table border=\"1\" class=\"dataframe\">\n",
              "  <thead>\n",
              "    <tr style=\"text-align: right;\">\n",
              "      <th></th>\n",
              "      <th>Temperature</th>\n",
              "      <th>Humidity</th>\n",
              "      <th>Light</th>\n",
              "      <th>CO2</th>\n",
              "      <th>HumidityRatio</th>\n",
              "    </tr>\n",
              "  </thead>\n",
              "  <tbody>\n",
              "    <tr>\n",
              "      <th>0</th>\n",
              "      <td>22.00</td>\n",
              "      <td>27.1000</td>\n",
              "      <td>0.00</td>\n",
              "      <td>557.000000</td>\n",
              "      <td>0.004431</td>\n",
              "    </tr>\n",
              "    <tr>\n",
              "      <th>1</th>\n",
              "      <td>20.50</td>\n",
              "      <td>21.2900</td>\n",
              "      <td>0.00</td>\n",
              "      <td>435.500000</td>\n",
              "      <td>0.003168</td>\n",
              "    </tr>\n",
              "    <tr>\n",
              "      <th>2</th>\n",
              "      <td>20.70</td>\n",
              "      <td>22.7900</td>\n",
              "      <td>0.00</td>\n",
              "      <td>455.500000</td>\n",
              "      <td>0.003435</td>\n",
              "    </tr>\n",
              "    <tr>\n",
              "      <th>3</th>\n",
              "      <td>20.26</td>\n",
              "      <td>33.0600</td>\n",
              "      <td>0.00</td>\n",
              "      <td>452.333333</td>\n",
              "      <td>0.004861</td>\n",
              "    </tr>\n",
              "    <tr>\n",
              "      <th>4</th>\n",
              "      <td>23.10</td>\n",
              "      <td>17.0000</td>\n",
              "      <td>283.25</td>\n",
              "      <td>451.000000</td>\n",
              "      <td>0.002965</td>\n",
              "    </tr>\n",
              "    <tr>\n",
              "      <th>...</th>\n",
              "      <td>...</td>\n",
              "      <td>...</td>\n",
              "      <td>...</td>\n",
              "      <td>...</td>\n",
              "      <td>...</td>\n",
              "    </tr>\n",
              "    <tr>\n",
              "      <th>9994</th>\n",
              "      <td>22.00</td>\n",
              "      <td>21.3925</td>\n",
              "      <td>469.00</td>\n",
              "      <td>880.750000</td>\n",
              "      <td>0.003492</td>\n",
              "    </tr>\n",
              "    <tr>\n",
              "      <th>9995</th>\n",
              "      <td>285.29</td>\n",
              "      <td>26.2000</td>\n",
              "      <td>48.50</td>\n",
              "      <td>421.500000</td>\n",
              "      <td>0.003853</td>\n",
              "    </tr>\n",
              "    <tr>\n",
              "      <th>9996</th>\n",
              "      <td>22.79</td>\n",
              "      <td>17.1000</td>\n",
              "      <td>150.00</td>\n",
              "      <td>443.500000</td>\n",
              "      <td>0.002926</td>\n",
              "    </tr>\n",
              "    <tr>\n",
              "      <th>9997</th>\n",
              "      <td>19.39</td>\n",
              "      <td>26.8900</td>\n",
              "      <td>0.00</td>\n",
              "      <td>471.000000</td>\n",
              "      <td>0.003739</td>\n",
              "    </tr>\n",
              "    <tr>\n",
              "      <th>9998</th>\n",
              "      <td>21.60</td>\n",
              "      <td>18.5000</td>\n",
              "      <td>53.75</td>\n",
              "      <td>446.500000</td>\n",
              "      <td>0.002945</td>\n",
              "    </tr>\n",
              "  </tbody>\n",
              "</table>\n",
              "<p>9999 rows × 5 columns</p>\n",
              "</div>\n",
              "      <button class=\"colab-df-convert\" onclick=\"convertToInteractive('df-a2d8351e-cd1b-4aaa-bc70-daaaaac92265')\"\n",
              "              title=\"Convert this dataframe to an interactive table.\"\n",
              "              style=\"display:none;\">\n",
              "        \n",
              "  <svg xmlns=\"http://www.w3.org/2000/svg\" height=\"24px\"viewBox=\"0 0 24 24\"\n",
              "       width=\"24px\">\n",
              "    <path d=\"M0 0h24v24H0V0z\" fill=\"none\"/>\n",
              "    <path d=\"M18.56 5.44l.94 2.06.94-2.06 2.06-.94-2.06-.94-.94-2.06-.94 2.06-2.06.94zm-11 1L8.5 8.5l.94-2.06 2.06-.94-2.06-.94L8.5 2.5l-.94 2.06-2.06.94zm10 10l.94 2.06.94-2.06 2.06-.94-2.06-.94-.94-2.06-.94 2.06-2.06.94z\"/><path d=\"M17.41 7.96l-1.37-1.37c-.4-.4-.92-.59-1.43-.59-.52 0-1.04.2-1.43.59L10.3 9.45l-7.72 7.72c-.78.78-.78 2.05 0 2.83L4 21.41c.39.39.9.59 1.41.59.51 0 1.02-.2 1.41-.59l7.78-7.78 2.81-2.81c.8-.78.8-2.07 0-2.86zM5.41 20L4 18.59l7.72-7.72 1.47 1.35L5.41 20z\"/>\n",
              "  </svg>\n",
              "      </button>\n",
              "      \n",
              "  <style>\n",
              "    .colab-df-container {\n",
              "      display:flex;\n",
              "      flex-wrap:wrap;\n",
              "      gap: 12px;\n",
              "    }\n",
              "\n",
              "    .colab-df-convert {\n",
              "      background-color: #E8F0FE;\n",
              "      border: none;\n",
              "      border-radius: 50%;\n",
              "      cursor: pointer;\n",
              "      display: none;\n",
              "      fill: #1967D2;\n",
              "      height: 32px;\n",
              "      padding: 0 0 0 0;\n",
              "      width: 32px;\n",
              "    }\n",
              "\n",
              "    .colab-df-convert:hover {\n",
              "      background-color: #E2EBFA;\n",
              "      box-shadow: 0px 1px 2px rgba(60, 64, 67, 0.3), 0px 1px 3px 1px rgba(60, 64, 67, 0.15);\n",
              "      fill: #174EA6;\n",
              "    }\n",
              "\n",
              "    [theme=dark] .colab-df-convert {\n",
              "      background-color: #3B4455;\n",
              "      fill: #D2E3FC;\n",
              "    }\n",
              "\n",
              "    [theme=dark] .colab-df-convert:hover {\n",
              "      background-color: #434B5C;\n",
              "      box-shadow: 0px 1px 3px 1px rgba(0, 0, 0, 0.15);\n",
              "      filter: drop-shadow(0px 1px 2px rgba(0, 0, 0, 0.3));\n",
              "      fill: #FFFFFF;\n",
              "    }\n",
              "  </style>\n",
              "\n",
              "      <script>\n",
              "        const buttonEl =\n",
              "          document.querySelector('#df-a2d8351e-cd1b-4aaa-bc70-daaaaac92265 button.colab-df-convert');\n",
              "        buttonEl.style.display =\n",
              "          google.colab.kernel.accessAllowed ? 'block' : 'none';\n",
              "\n",
              "        async function convertToInteractive(key) {\n",
              "          const element = document.querySelector('#df-a2d8351e-cd1b-4aaa-bc70-daaaaac92265');\n",
              "          const dataTable =\n",
              "            await google.colab.kernel.invokeFunction('convertToInteractive',\n",
              "                                                     [key], {});\n",
              "          if (!dataTable) return;\n",
              "\n",
              "          const docLinkHtml = 'Like what you see? Visit the ' +\n",
              "            '<a target=\"_blank\" href=https://colab.research.google.com/notebooks/data_table.ipynb>data table notebook</a>'\n",
              "            + ' to learn more about interactive tables.';\n",
              "          element.innerHTML = '';\n",
              "          dataTable['output_type'] = 'display_data';\n",
              "          await google.colab.output.renderOutput(dataTable, element);\n",
              "          const docLink = document.createElement('div');\n",
              "          docLink.innerHTML = docLinkHtml;\n",
              "          element.appendChild(docLink);\n",
              "        }\n",
              "      </script>\n",
              "    </div>\n",
              "  </div>\n",
              "  "
            ]
          },
          "metadata": {},
          "execution_count": 5
        }
      ],
      "source": [
        "df = pd.read_csv('https://raw.githubusercontent.com/Alex980102/mqtt_MNA_A4/main/db/DatosPruebaMQTT.csv', index_col=0)\n",
        "df"
      ]
    },
    {
      "cell_type": "code",
      "execution_count": 6,
      "metadata": {
        "id": "4wN3z8Hwbhg0",
        "outputId": "f6727752-3d42-4187-cce6-b647fa2b7367",
        "colab": {
          "base_uri": "https://localhost:8080/"
        }
      },
      "outputs": [
        {
          "output_type": "stream",
          "name": "stdout",
          "text": [
            "<class 'pandas.core.frame.DataFrame'>\n",
            "Int64Index: 9898 entries, 0 to 9998\n",
            "Data columns (total 5 columns):\n",
            " #   Column         Non-Null Count  Dtype  \n",
            "---  ------         --------------  -----  \n",
            " 0   Temperature    9898 non-null   float64\n",
            " 1   Humidity       9898 non-null   float64\n",
            " 2   Light          9898 non-null   float64\n",
            " 3   CO2            9898 non-null   float64\n",
            " 4   HumidityRatio  9898 non-null   float64\n",
            "dtypes: float64(5)\n",
            "memory usage: 464.0 KB\n"
          ]
        }
      ],
      "source": [
        "df = df.dropna()\n",
        "df.info()"
      ]
    },
    {
      "cell_type": "code",
      "execution_count": 7,
      "metadata": {
        "id": "N6dvv87Pbhg0",
        "outputId": "e2542fb0-4a88-4a44-d962-cd2587840601",
        "colab": {
          "base_uri": "https://localhost:8080/",
          "height": 300
        }
      },
      "outputs": [
        {
          "output_type": "execute_result",
          "data": {
            "text/plain": [
              "       Temperature      Humidity        Light          CO2  HumidityRatio\n",
              "count  9898.000000   9898.000000  9898.000000  9898.000000    9898.000000\n",
              "mean     85.289824    478.969754   120.232916   607.146749       0.003861\n",
              "std     199.728631   1701.386088   195.555121   314.453658       0.000851\n",
              "min      19.000000     16.745000     0.000000   412.750000       0.002674\n",
              "25%      19.790000     20.650000     0.000000   439.333333       0.003084\n",
              "50%      20.600000     26.650000     0.000000   454.000000       0.003798\n",
              "75%      21.790000     31.500000   263.250000   642.666667       0.004350\n",
              "max    1019.500000  10026.000000  1546.333333  2028.500000       0.006476"
            ],
            "text/html": [
              "\n",
              "  <div id=\"df-4ea0b857-1449-487c-bebf-974188625d51\">\n",
              "    <div class=\"colab-df-container\">\n",
              "      <div>\n",
              "<style scoped>\n",
              "    .dataframe tbody tr th:only-of-type {\n",
              "        vertical-align: middle;\n",
              "    }\n",
              "\n",
              "    .dataframe tbody tr th {\n",
              "        vertical-align: top;\n",
              "    }\n",
              "\n",
              "    .dataframe thead th {\n",
              "        text-align: right;\n",
              "    }\n",
              "</style>\n",
              "<table border=\"1\" class=\"dataframe\">\n",
              "  <thead>\n",
              "    <tr style=\"text-align: right;\">\n",
              "      <th></th>\n",
              "      <th>Temperature</th>\n",
              "      <th>Humidity</th>\n",
              "      <th>Light</th>\n",
              "      <th>CO2</th>\n",
              "      <th>HumidityRatio</th>\n",
              "    </tr>\n",
              "  </thead>\n",
              "  <tbody>\n",
              "    <tr>\n",
              "      <th>count</th>\n",
              "      <td>9898.000000</td>\n",
              "      <td>9898.000000</td>\n",
              "      <td>9898.000000</td>\n",
              "      <td>9898.000000</td>\n",
              "      <td>9898.000000</td>\n",
              "    </tr>\n",
              "    <tr>\n",
              "      <th>mean</th>\n",
              "      <td>85.289824</td>\n",
              "      <td>478.969754</td>\n",
              "      <td>120.232916</td>\n",
              "      <td>607.146749</td>\n",
              "      <td>0.003861</td>\n",
              "    </tr>\n",
              "    <tr>\n",
              "      <th>std</th>\n",
              "      <td>199.728631</td>\n",
              "      <td>1701.386088</td>\n",
              "      <td>195.555121</td>\n",
              "      <td>314.453658</td>\n",
              "      <td>0.000851</td>\n",
              "    </tr>\n",
              "    <tr>\n",
              "      <th>min</th>\n",
              "      <td>19.000000</td>\n",
              "      <td>16.745000</td>\n",
              "      <td>0.000000</td>\n",
              "      <td>412.750000</td>\n",
              "      <td>0.002674</td>\n",
              "    </tr>\n",
              "    <tr>\n",
              "      <th>25%</th>\n",
              "      <td>19.790000</td>\n",
              "      <td>20.650000</td>\n",
              "      <td>0.000000</td>\n",
              "      <td>439.333333</td>\n",
              "      <td>0.003084</td>\n",
              "    </tr>\n",
              "    <tr>\n",
              "      <th>50%</th>\n",
              "      <td>20.600000</td>\n",
              "      <td>26.650000</td>\n",
              "      <td>0.000000</td>\n",
              "      <td>454.000000</td>\n",
              "      <td>0.003798</td>\n",
              "    </tr>\n",
              "    <tr>\n",
              "      <th>75%</th>\n",
              "      <td>21.790000</td>\n",
              "      <td>31.500000</td>\n",
              "      <td>263.250000</td>\n",
              "      <td>642.666667</td>\n",
              "      <td>0.004350</td>\n",
              "    </tr>\n",
              "    <tr>\n",
              "      <th>max</th>\n",
              "      <td>1019.500000</td>\n",
              "      <td>10026.000000</td>\n",
              "      <td>1546.333333</td>\n",
              "      <td>2028.500000</td>\n",
              "      <td>0.006476</td>\n",
              "    </tr>\n",
              "  </tbody>\n",
              "</table>\n",
              "</div>\n",
              "      <button class=\"colab-df-convert\" onclick=\"convertToInteractive('df-4ea0b857-1449-487c-bebf-974188625d51')\"\n",
              "              title=\"Convert this dataframe to an interactive table.\"\n",
              "              style=\"display:none;\">\n",
              "        \n",
              "  <svg xmlns=\"http://www.w3.org/2000/svg\" height=\"24px\"viewBox=\"0 0 24 24\"\n",
              "       width=\"24px\">\n",
              "    <path d=\"M0 0h24v24H0V0z\" fill=\"none\"/>\n",
              "    <path d=\"M18.56 5.44l.94 2.06.94-2.06 2.06-.94-2.06-.94-.94-2.06-.94 2.06-2.06.94zm-11 1L8.5 8.5l.94-2.06 2.06-.94-2.06-.94L8.5 2.5l-.94 2.06-2.06.94zm10 10l.94 2.06.94-2.06 2.06-.94-2.06-.94-.94-2.06-.94 2.06-2.06.94z\"/><path d=\"M17.41 7.96l-1.37-1.37c-.4-.4-.92-.59-1.43-.59-.52 0-1.04.2-1.43.59L10.3 9.45l-7.72 7.72c-.78.78-.78 2.05 0 2.83L4 21.41c.39.39.9.59 1.41.59.51 0 1.02-.2 1.41-.59l7.78-7.78 2.81-2.81c.8-.78.8-2.07 0-2.86zM5.41 20L4 18.59l7.72-7.72 1.47 1.35L5.41 20z\"/>\n",
              "  </svg>\n",
              "      </button>\n",
              "      \n",
              "  <style>\n",
              "    .colab-df-container {\n",
              "      display:flex;\n",
              "      flex-wrap:wrap;\n",
              "      gap: 12px;\n",
              "    }\n",
              "\n",
              "    .colab-df-convert {\n",
              "      background-color: #E8F0FE;\n",
              "      border: none;\n",
              "      border-radius: 50%;\n",
              "      cursor: pointer;\n",
              "      display: none;\n",
              "      fill: #1967D2;\n",
              "      height: 32px;\n",
              "      padding: 0 0 0 0;\n",
              "      width: 32px;\n",
              "    }\n",
              "\n",
              "    .colab-df-convert:hover {\n",
              "      background-color: #E2EBFA;\n",
              "      box-shadow: 0px 1px 2px rgba(60, 64, 67, 0.3), 0px 1px 3px 1px rgba(60, 64, 67, 0.15);\n",
              "      fill: #174EA6;\n",
              "    }\n",
              "\n",
              "    [theme=dark] .colab-df-convert {\n",
              "      background-color: #3B4455;\n",
              "      fill: #D2E3FC;\n",
              "    }\n",
              "\n",
              "    [theme=dark] .colab-df-convert:hover {\n",
              "      background-color: #434B5C;\n",
              "      box-shadow: 0px 1px 3px 1px rgba(0, 0, 0, 0.15);\n",
              "      filter: drop-shadow(0px 1px 2px rgba(0, 0, 0, 0.3));\n",
              "      fill: #FFFFFF;\n",
              "    }\n",
              "  </style>\n",
              "\n",
              "      <script>\n",
              "        const buttonEl =\n",
              "          document.querySelector('#df-4ea0b857-1449-487c-bebf-974188625d51 button.colab-df-convert');\n",
              "        buttonEl.style.display =\n",
              "          google.colab.kernel.accessAllowed ? 'block' : 'none';\n",
              "\n",
              "        async function convertToInteractive(key) {\n",
              "          const element = document.querySelector('#df-4ea0b857-1449-487c-bebf-974188625d51');\n",
              "          const dataTable =\n",
              "            await google.colab.kernel.invokeFunction('convertToInteractive',\n",
              "                                                     [key], {});\n",
              "          if (!dataTable) return;\n",
              "\n",
              "          const docLinkHtml = 'Like what you see? Visit the ' +\n",
              "            '<a target=\"_blank\" href=https://colab.research.google.com/notebooks/data_table.ipynb>data table notebook</a>'\n",
              "            + ' to learn more about interactive tables.';\n",
              "          element.innerHTML = '';\n",
              "          dataTable['output_type'] = 'display_data';\n",
              "          await google.colab.output.renderOutput(dataTable, element);\n",
              "          const docLink = document.createElement('div');\n",
              "          docLink.innerHTML = docLinkHtml;\n",
              "          element.appendChild(docLink);\n",
              "        }\n",
              "      </script>\n",
              "    </div>\n",
              "  </div>\n",
              "  "
            ]
          },
          "metadata": {},
          "execution_count": 7
        }
      ],
      "source": [
        "df.describe()"
      ]
    },
    {
      "cell_type": "code",
      "execution_count": 8,
      "metadata": {
        "id": "LGf19AVYbhg1"
      },
      "outputs": [],
      "source": [
        "temp = df.Temperature\n",
        "hum = df.Humidity\n",
        "co = df.CO2"
      ]
    },
    {
      "cell_type": "code",
      "execution_count": 9,
      "metadata": {
        "id": "BCoWGxMYbhg1",
        "outputId": "6c251b88-e8ac-405b-a040-0fad30727beb",
        "colab": {
          "base_uri": "https://localhost:8080/"
        }
      },
      "outputs": [
        {
          "output_type": "stream",
          "name": "stdout",
          "text": [
            "Broker: broker.hivemq.com\n"
          ]
        }
      ],
      "source": [
        "# broker_list = ['broker.hivemq.com', 'mqtt.eclipseprojects.io', 'test.mosquitto.org', 'broker.mqttdashboard.com']\n",
        "print(f\"Broker: {os.environ.get('BROKER')}\")"
      ]
    },
    {
      "cell_type": "code",
      "source": [
        "Connected = True\n",
        "mqttBroker = str(os.environ.get('BROKER'))\n",
        "tag = os.environ.get('TAG')\n",
        "client = mqtt.Client()\n",
        "client.connect(mqttBroker)\n",
        "\n",
        "while Connected != False:\n",
        "    try:\n",
        "        for i,j,k in zip(temp, hum, co):\n",
        "            publicar = {\n",
        "                \"Temperatura\": i,\n",
        "                \"Humedad\": j,\n",
        "                \"C02\": k\n",
        "            }\n",
        "            publicar = json.dumps(publicar)\n",
        "            client.publish(tag, publicar)\n",
        "            print(f\"Just published {publicar} al topic {tag}\")\n",
        "            time.sleep(1)\n",
        "    except KeyboardInterrupt:\n",
        "        print('Sesión interrumpida')\n",
        "        client.disconnect()\n",
        "        Connected = False"
      ],
      "metadata": {
        "id": "jd_t80mEqxUv",
        "outputId": "8187a28e-bee2-4eac-b8a7-4e8a932d45be",
        "colab": {
          "base_uri": "https://localhost:8080/"
        }
      },
      "execution_count": 11,
      "outputs": [
        {
          "output_type": "stream",
          "name": "stdout",
          "text": [
            "Just published {\"Temperatura\": 22.0, \"Humedad\": 27.1, \"C02\": 557.0} al topic MNA/EQUIPO/09\n",
            "Just published {\"Temperatura\": 20.5, \"Humedad\": 21.29, \"C02\": 435.5} al topic MNA/EQUIPO/09\n",
            "Just published {\"Temperatura\": 20.7, \"Humedad\": 22.79, \"C02\": 455.5} al topic MNA/EQUIPO/09\n",
            "Just published {\"Temperatura\": 20.26, \"Humedad\": 33.06, \"C02\": 452.3333333} al topic MNA/EQUIPO/09\n",
            "Just published {\"Temperatura\": 23.1, \"Humedad\": 17.0, \"C02\": 451.0} al topic MNA/EQUIPO/09\n",
            "Just published {\"Temperatura\": 20.5, \"Humedad\": 33.09, \"C02\": 572.0} al topic MNA/EQUIPO/09\n",
            "Just published {\"Temperatura\": 19.89, \"Humedad\": 19.1, \"C02\": 433.0} al topic MNA/EQUIPO/09\n",
            "Just published {\"Temperatura\": 19.39, \"Humedad\": 3174.0, \"C02\": 461.0} al topic MNA/EQUIPO/09\n",
            "Just published {\"Temperatura\": 20.29, \"Humedad\": 19.1, \"C02\": 466.0} al topic MNA/EQUIPO/09\n",
            "Just published {\"Temperatura\": 20.6, \"Humedad\": 19.5, \"C02\": 440.0} al topic MNA/EQUIPO/09\n",
            "Just published {\"Temperatura\": 19.29, \"Humedad\": 31.2, \"C02\": 437.0} al topic MNA/EQUIPO/09\n",
            "Just published {\"Temperatura\": 20.39, \"Humedad\": 21.29, \"C02\": 443.0} al topic MNA/EQUIPO/09\n",
            "Just published {\"Temperatura\": 20.29, \"Humedad\": 33.09, \"C02\": 452.6666667} al topic MNA/EQUIPO/09\n",
            "Just published {\"Temperatura\": 19.34, \"Humedad\": 27.6, \"C02\": 435.0} al topic MNA/EQUIPO/09\n",
            "Just published {\"Temperatura\": 20.5, \"Humedad\": 33.76, \"C02\": 704.0} al topic MNA/EQUIPO/09\n",
            "Just published {\"Temperatura\": 311.745, \"Humedad\": 21.675, \"C02\": 917.25} al topic MNA/EQUIPO/09\n",
            "Just published {\"Temperatura\": 19.29, \"Humedad\": 27.7, \"C02\": 433.0} al topic MNA/EQUIPO/09\n",
            "Just published {\"Temperatura\": 19.39, \"Humedad\": 31.29, \"C02\": 435.0} al topic MNA/EQUIPO/09\n",
            "Just published {\"Temperatura\": 22.39, \"Humedad\": 26.045, \"C02\": 1046.0} al topic MNA/EQUIPO/09\n",
            "Just published {\"Temperatura\": 20.0, \"Humedad\": 25.29, \"C02\": 442.0} al topic MNA/EQUIPO/09\n",
            "Just published {\"Temperatura\": 19.89, \"Humedad\": 28.625, \"C02\": 595.0} al topic MNA/EQUIPO/09\n",
            "Just published {\"Temperatura\": 20.79, \"Humedad\": 31.96333333, \"C02\": 1167.0} al topic MNA/EQUIPO/09\n",
            "Just published {\"Temperatura\": 19.5, \"Humedad\": 26.89, \"C02\": 458.0} al topic MNA/EQUIPO/09\n",
            "Just published {\"Temperatura\": 22.5, \"Humedad\": 27.125, \"C02\": 1063.5} al topic MNA/EQUIPO/09\n",
            "Just published {\"Temperatura\": 21.2, \"Humedad\": 25.245, \"C02\": 455.5} al topic MNA/EQUIPO/09\n",
            "Just published {\"Temperatura\": 1005.29, \"Humedad\": 30.6, \"C02\": 427.3333333} al topic MNA/EQUIPO/09\n",
            "Just published {\"Temperatura\": 19.89, \"Humedad\": 26.445, \"C02\": 418.0} al topic MNA/EQUIPO/09\n",
            "Just published {\"Temperatura\": 19.39, \"Humedad\": 26.79, \"C02\": 467.0} al topic MNA/EQUIPO/09\n",
            "Just published {\"Temperatura\": 19.745, \"Humedad\": 19.39, \"C02\": 439.0} al topic MNA/EQUIPO/09\n",
            "Just published {\"Temperatura\": 263.525, \"Humedad\": 27.365, \"C02\": 486.75} al topic MNA/EQUIPO/09\n",
            "Just published {\"Temperatura\": 21.365, \"Humedad\": 24.2225, \"C02\": 746.25} al topic MNA/EQUIPO/09\n",
            "Just published {\"Temperatura\": 22.2225, \"Humedad\": 17.675, \"C02\": 443.5} al topic MNA/EQUIPO/09\n",
            "Just published {\"Temperatura\": 671.79, \"Humedad\": 19.05, \"C02\": 629.75} al topic MNA/EQUIPO/09\n",
            "Just published {\"Temperatura\": 20.5, \"Humedad\": 18.945, \"C02\": 425.0} al topic MNA/EQUIPO/09\n",
            "Just published {\"Temperatura\": 20.39, \"Humedad\": 21.89, \"C02\": 435.0} al topic MNA/EQUIPO/09\n",
            "Just published {\"Temperatura\": 20.84, \"Humedad\": 23.34, \"C02\": 448.0} al topic MNA/EQUIPO/09\n",
            "Just published {\"Temperatura\": 19.6, \"Humedad\": 4467.6, \"C02\": 435.0} al topic MNA/EQUIPO/09\n",
            "Just published {\"Temperatura\": 20.2, \"Humedad\": 32.79, \"C02\": 447.0} al topic MNA/EQUIPO/09\n",
            "Just published {\"Temperatura\": 19.5, \"Humedad\": 30.2, \"C02\": 436.5} al topic MNA/EQUIPO/09\n",
            "Just published {\"Temperatura\": 20.29, \"Humedad\": 22.89, \"C02\": 440.0} al topic MNA/EQUIPO/09\n",
            "Just published {\"Temperatura\": 20.89, \"Humedad\": 23.5, \"C02\": 448.0} al topic MNA/EQUIPO/09\n",
            "Just published {\"Temperatura\": 20.85666667, \"Humedad\": 19.76, \"C02\": 628.3333333} al topic MNA/EQUIPO/09\n",
            "Sesión interrumpida\n"
          ]
        }
      ]
    },
    {
      "cell_type": "code",
      "source": [
        ""
      ],
      "metadata": {
        "id": "nPHQg9bbuKaz"
      },
      "execution_count": 10,
      "outputs": []
    }
  ],
  "metadata": {
    "kernelspec": {
      "display_name": "Python 3.9.12 ('tensorflow29')",
      "language": "python",
      "name": "python3"
    },
    "language_info": {
      "codemirror_mode": {
        "name": "ipython",
        "version": 3
      },
      "file_extension": ".py",
      "mimetype": "text/x-python",
      "name": "python",
      "nbconvert_exporter": "python",
      "pygments_lexer": "ipython3",
      "version": "3.9.12"
    },
    "orig_nbformat": 4,
    "vscode": {
      "interpreter": {
        "hash": "a8b51283e19ea4f556ad153052c0fc7e7aba70c909e803e78c247e2229cf6367"
      }
    },
    "colab": {
      "name": "pub_mqtt.ipynb",
      "provenance": []
    }
  },
  "nbformat": 4,
  "nbformat_minor": 0
}