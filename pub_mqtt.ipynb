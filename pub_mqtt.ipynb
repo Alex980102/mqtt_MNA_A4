{
  "cells": [
    {
      "cell_type": "markdown",
      "source": [
        "Para abrir el cliente de este mqtt usar el siguiente enlace\n",
        "\n",
        "<a href=\"https://github.com/Alex980102/mqtt_MNA_A4/blob/main/client_mqtt.ipynb\">\n",
        "  <img src=\"https://colab.research.google.com/assets/colab-badge.svg\" alt=\"Open In Colab\"/>\n",
        "</a>\n",
        "\n",
        "Para iniciar este proyecto solo debemos de dar click en Entorno de ejecución > Ejecutar todo"
      ],
      "metadata": {
        "id": "XvK7hH0ZcoDr"
      }
    },
    {
      "cell_type": "code",
      "source": [
        "!git clone https://github.com/Alex980102/mqtt_MNA_A4.git"
      ],
      "metadata": {
        "id": "EX6dD5QZbiv5",
        "outputId": "350d939a-5fde-4a2e-c1c5-b8139505c774",
        "colab": {
          "base_uri": "https://localhost:8080/"
        }
      },
      "execution_count": 2,
      "outputs": [
        {
          "output_type": "stream",
          "name": "stdout",
          "text": [
            "Cloning into 'mqtt_MNA_A4'...\n",
            "remote: Enumerating objects: 12, done.\u001b[K\n",
            "remote: Counting objects: 100% (12/12), done.\u001b[K\n",
            "remote: Compressing objects: 100% (10/10), done.\u001b[K\n",
            "remote: Total 12 (delta 1), reused 12 (delta 1), pack-reused 0\u001b[K\n",
            "Unpacking objects: 100% (12/12), done.\n"
          ]
        }
      ]
    },
    {
      "cell_type": "code",
      "source": [
        "%cd /content/mqtt_MNA_A4/"
      ],
      "metadata": {
        "id": "J867FflJb157",
        "outputId": "1e944948-b672-4d5d-fd24-4e0b60a51d46",
        "colab": {
          "base_uri": "https://localhost:8080/"
        }
      },
      "execution_count": 6,
      "outputs": [
        {
          "output_type": "stream",
          "name": "stdout",
          "text": [
            "/content/mqtt_MNA_A4\n"
          ]
        }
      ]
    },
    {
      "cell_type": "code",
      "execution_count": 7,
      "metadata": {
        "id": "bpQbvA_dbhgu",
        "outputId": "df68d813-1523-48de-cdac-e79c29c26c09",
        "colab": {
          "base_uri": "https://localhost:8080/"
        }
      },
      "outputs": [
        {
          "output_type": "stream",
          "name": "stdout",
          "text": [
            "Looking in indexes: https://pypi.org/simple, https://us-python.pkg.dev/colab-wheels/public/simple/\n",
            "Collecting paho-mqtt\n",
            "  Downloading paho-mqtt-1.6.1.tar.gz (99 kB)\n",
            "\u001b[K     |████████████████████████████████| 99 kB 3.7 MB/s \n",
            "\u001b[?25hRequirement already satisfied: pandas in /usr/local/lib/python3.7/dist-packages (from -r requirements.txt (line 2)) (1.3.5)\n",
            "Collecting python-dotenv\n",
            "  Downloading python_dotenv-0.20.0-py3-none-any.whl (17 kB)\n",
            "Requirement already satisfied: numpy>=1.17.3 in /usr/local/lib/python3.7/dist-packages (from pandas->-r requirements.txt (line 2)) (1.21.6)\n",
            "Requirement already satisfied: pytz>=2017.3 in /usr/local/lib/python3.7/dist-packages (from pandas->-r requirements.txt (line 2)) (2022.1)\n",
            "Requirement already satisfied: python-dateutil>=2.7.3 in /usr/local/lib/python3.7/dist-packages (from pandas->-r requirements.txt (line 2)) (2.8.2)\n",
            "Requirement already satisfied: six>=1.5 in /usr/local/lib/python3.7/dist-packages (from python-dateutil>=2.7.3->pandas->-r requirements.txt (line 2)) (1.15.0)\n",
            "Building wheels for collected packages: paho-mqtt\n",
            "  Building wheel for paho-mqtt (setup.py) ... \u001b[?25l\u001b[?25hdone\n",
            "  Created wheel for paho-mqtt: filename=paho_mqtt-1.6.1-py3-none-any.whl size=62133 sha256=63bf04e25e9e42964bb3a0fb2a49b13d1b92bcfac7aec970a8d3975972d029f2\n",
            "  Stored in directory: /root/.cache/pip/wheels/d0/bf/ac/2b3f43f8c6fcd0f4ba5395397458c521eb0b52d33b574a5a40\n",
            "Successfully built paho-mqtt\n",
            "Installing collected packages: python-dotenv, paho-mqtt\n",
            "Successfully installed paho-mqtt-1.6.1 python-dotenv-0.20.0\n"
          ]
        }
      ],
      "source": [
        "!pip install -r requirements.txt"
      ]
    },
    {
      "cell_type": "code",
      "execution_count": 8,
      "metadata": {
        "id": "YNVCtrn3bhgy",
        "outputId": "74599789-53f9-4ce1-e57c-1d1e506e153b",
        "colab": {
          "base_uri": "https://localhost:8080/"
        }
      },
      "outputs": [
        {
          "output_type": "execute_result",
          "data": {
            "text/plain": [
              "True"
            ]
          },
          "metadata": {},
          "execution_count": 8
        }
      ],
      "source": [
        "import pandas as pd\n",
        "import paho.mqtt.client as mqtt\n",
        "import time\n",
        "from random import randint\n",
        "import os\n",
        "from dotenv import load_dotenv\n",
        "load_dotenv()"
      ]
    },
    {
      "cell_type": "code",
      "execution_count": 9,
      "metadata": {
        "id": "i9wgbzKSbhgz",
        "outputId": "5657ef4b-0965-4ee4-e6a3-c587fd2380d8",
        "colab": {
          "base_uri": "https://localhost:8080/",
          "height": 424
        }
      },
      "outputs": [
        {
          "output_type": "execute_result",
          "data": {
            "text/plain": [
              "      Temperature  Humidity   Light         CO2  HumidityRatio\n",
              "0           22.00   27.1000    0.00  557.000000       0.004431\n",
              "1           20.50   21.2900    0.00  435.500000       0.003168\n",
              "2           20.70   22.7900    0.00  455.500000       0.003435\n",
              "3           20.26   33.0600    0.00  452.333333       0.004861\n",
              "4           23.10   17.0000  283.25  451.000000       0.002965\n",
              "...           ...       ...     ...         ...            ...\n",
              "9994        22.00   21.3925  469.00  880.750000       0.003492\n",
              "9995       285.29   26.2000   48.50  421.500000       0.003853\n",
              "9996        22.79   17.1000  150.00  443.500000       0.002926\n",
              "9997        19.39   26.8900    0.00  471.000000       0.003739\n",
              "9998        21.60   18.5000   53.75  446.500000       0.002945\n",
              "\n",
              "[9999 rows x 5 columns]"
            ],
            "text/html": [
              "\n",
              "  <div id=\"df-134fee19-d943-4463-be66-8132f3eb70c5\">\n",
              "    <div class=\"colab-df-container\">\n",
              "      <div>\n",
              "<style scoped>\n",
              "    .dataframe tbody tr th:only-of-type {\n",
              "        vertical-align: middle;\n",
              "    }\n",
              "\n",
              "    .dataframe tbody tr th {\n",
              "        vertical-align: top;\n",
              "    }\n",
              "\n",
              "    .dataframe thead th {\n",
              "        text-align: right;\n",
              "    }\n",
              "</style>\n",
              "<table border=\"1\" class=\"dataframe\">\n",
              "  <thead>\n",
              "    <tr style=\"text-align: right;\">\n",
              "      <th></th>\n",
              "      <th>Temperature</th>\n",
              "      <th>Humidity</th>\n",
              "      <th>Light</th>\n",
              "      <th>CO2</th>\n",
              "      <th>HumidityRatio</th>\n",
              "    </tr>\n",
              "  </thead>\n",
              "  <tbody>\n",
              "    <tr>\n",
              "      <th>0</th>\n",
              "      <td>22.00</td>\n",
              "      <td>27.1000</td>\n",
              "      <td>0.00</td>\n",
              "      <td>557.000000</td>\n",
              "      <td>0.004431</td>\n",
              "    </tr>\n",
              "    <tr>\n",
              "      <th>1</th>\n",
              "      <td>20.50</td>\n",
              "      <td>21.2900</td>\n",
              "      <td>0.00</td>\n",
              "      <td>435.500000</td>\n",
              "      <td>0.003168</td>\n",
              "    </tr>\n",
              "    <tr>\n",
              "      <th>2</th>\n",
              "      <td>20.70</td>\n",
              "      <td>22.7900</td>\n",
              "      <td>0.00</td>\n",
              "      <td>455.500000</td>\n",
              "      <td>0.003435</td>\n",
              "    </tr>\n",
              "    <tr>\n",
              "      <th>3</th>\n",
              "      <td>20.26</td>\n",
              "      <td>33.0600</td>\n",
              "      <td>0.00</td>\n",
              "      <td>452.333333</td>\n",
              "      <td>0.004861</td>\n",
              "    </tr>\n",
              "    <tr>\n",
              "      <th>4</th>\n",
              "      <td>23.10</td>\n",
              "      <td>17.0000</td>\n",
              "      <td>283.25</td>\n",
              "      <td>451.000000</td>\n",
              "      <td>0.002965</td>\n",
              "    </tr>\n",
              "    <tr>\n",
              "      <th>...</th>\n",
              "      <td>...</td>\n",
              "      <td>...</td>\n",
              "      <td>...</td>\n",
              "      <td>...</td>\n",
              "      <td>...</td>\n",
              "    </tr>\n",
              "    <tr>\n",
              "      <th>9994</th>\n",
              "      <td>22.00</td>\n",
              "      <td>21.3925</td>\n",
              "      <td>469.00</td>\n",
              "      <td>880.750000</td>\n",
              "      <td>0.003492</td>\n",
              "    </tr>\n",
              "    <tr>\n",
              "      <th>9995</th>\n",
              "      <td>285.29</td>\n",
              "      <td>26.2000</td>\n",
              "      <td>48.50</td>\n",
              "      <td>421.500000</td>\n",
              "      <td>0.003853</td>\n",
              "    </tr>\n",
              "    <tr>\n",
              "      <th>9996</th>\n",
              "      <td>22.79</td>\n",
              "      <td>17.1000</td>\n",
              "      <td>150.00</td>\n",
              "      <td>443.500000</td>\n",
              "      <td>0.002926</td>\n",
              "    </tr>\n",
              "    <tr>\n",
              "      <th>9997</th>\n",
              "      <td>19.39</td>\n",
              "      <td>26.8900</td>\n",
              "      <td>0.00</td>\n",
              "      <td>471.000000</td>\n",
              "      <td>0.003739</td>\n",
              "    </tr>\n",
              "    <tr>\n",
              "      <th>9998</th>\n",
              "      <td>21.60</td>\n",
              "      <td>18.5000</td>\n",
              "      <td>53.75</td>\n",
              "      <td>446.500000</td>\n",
              "      <td>0.002945</td>\n",
              "    </tr>\n",
              "  </tbody>\n",
              "</table>\n",
              "<p>9999 rows × 5 columns</p>\n",
              "</div>\n",
              "      <button class=\"colab-df-convert\" onclick=\"convertToInteractive('df-134fee19-d943-4463-be66-8132f3eb70c5')\"\n",
              "              title=\"Convert this dataframe to an interactive table.\"\n",
              "              style=\"display:none;\">\n",
              "        \n",
              "  <svg xmlns=\"http://www.w3.org/2000/svg\" height=\"24px\"viewBox=\"0 0 24 24\"\n",
              "       width=\"24px\">\n",
              "    <path d=\"M0 0h24v24H0V0z\" fill=\"none\"/>\n",
              "    <path d=\"M18.56 5.44l.94 2.06.94-2.06 2.06-.94-2.06-.94-.94-2.06-.94 2.06-2.06.94zm-11 1L8.5 8.5l.94-2.06 2.06-.94-2.06-.94L8.5 2.5l-.94 2.06-2.06.94zm10 10l.94 2.06.94-2.06 2.06-.94-2.06-.94-.94-2.06-.94 2.06-2.06.94z\"/><path d=\"M17.41 7.96l-1.37-1.37c-.4-.4-.92-.59-1.43-.59-.52 0-1.04.2-1.43.59L10.3 9.45l-7.72 7.72c-.78.78-.78 2.05 0 2.83L4 21.41c.39.39.9.59 1.41.59.51 0 1.02-.2 1.41-.59l7.78-7.78 2.81-2.81c.8-.78.8-2.07 0-2.86zM5.41 20L4 18.59l7.72-7.72 1.47 1.35L5.41 20z\"/>\n",
              "  </svg>\n",
              "      </button>\n",
              "      \n",
              "  <style>\n",
              "    .colab-df-container {\n",
              "      display:flex;\n",
              "      flex-wrap:wrap;\n",
              "      gap: 12px;\n",
              "    }\n",
              "\n",
              "    .colab-df-convert {\n",
              "      background-color: #E8F0FE;\n",
              "      border: none;\n",
              "      border-radius: 50%;\n",
              "      cursor: pointer;\n",
              "      display: none;\n",
              "      fill: #1967D2;\n",
              "      height: 32px;\n",
              "      padding: 0 0 0 0;\n",
              "      width: 32px;\n",
              "    }\n",
              "\n",
              "    .colab-df-convert:hover {\n",
              "      background-color: #E2EBFA;\n",
              "      box-shadow: 0px 1px 2px rgba(60, 64, 67, 0.3), 0px 1px 3px 1px rgba(60, 64, 67, 0.15);\n",
              "      fill: #174EA6;\n",
              "    }\n",
              "\n",
              "    [theme=dark] .colab-df-convert {\n",
              "      background-color: #3B4455;\n",
              "      fill: #D2E3FC;\n",
              "    }\n",
              "\n",
              "    [theme=dark] .colab-df-convert:hover {\n",
              "      background-color: #434B5C;\n",
              "      box-shadow: 0px 1px 3px 1px rgba(0, 0, 0, 0.15);\n",
              "      filter: drop-shadow(0px 1px 2px rgba(0, 0, 0, 0.3));\n",
              "      fill: #FFFFFF;\n",
              "    }\n",
              "  </style>\n",
              "\n",
              "      <script>\n",
              "        const buttonEl =\n",
              "          document.querySelector('#df-134fee19-d943-4463-be66-8132f3eb70c5 button.colab-df-convert');\n",
              "        buttonEl.style.display =\n",
              "          google.colab.kernel.accessAllowed ? 'block' : 'none';\n",
              "\n",
              "        async function convertToInteractive(key) {\n",
              "          const element = document.querySelector('#df-134fee19-d943-4463-be66-8132f3eb70c5');\n",
              "          const dataTable =\n",
              "            await google.colab.kernel.invokeFunction('convertToInteractive',\n",
              "                                                     [key], {});\n",
              "          if (!dataTable) return;\n",
              "\n",
              "          const docLinkHtml = 'Like what you see? Visit the ' +\n",
              "            '<a target=\"_blank\" href=https://colab.research.google.com/notebooks/data_table.ipynb>data table notebook</a>'\n",
              "            + ' to learn more about interactive tables.';\n",
              "          element.innerHTML = '';\n",
              "          dataTable['output_type'] = 'display_data';\n",
              "          await google.colab.output.renderOutput(dataTable, element);\n",
              "          const docLink = document.createElement('div');\n",
              "          docLink.innerHTML = docLinkHtml;\n",
              "          element.appendChild(docLink);\n",
              "        }\n",
              "      </script>\n",
              "    </div>\n",
              "  </div>\n",
              "  "
            ]
          },
          "metadata": {},
          "execution_count": 9
        }
      ],
      "source": [
        "df = pd.read_csv('https://raw.githubusercontent.com/Alex980102/mqtt_MNA_A4/main/db/DatosPruebaMQTT.csv', index_col=0)\n",
        "df"
      ]
    },
    {
      "cell_type": "code",
      "execution_count": 10,
      "metadata": {
        "id": "4wN3z8Hwbhg0",
        "outputId": "0987165a-76cb-4195-bcd7-6f3dbae8b9db",
        "colab": {
          "base_uri": "https://localhost:8080/"
        }
      },
      "outputs": [
        {
          "output_type": "stream",
          "name": "stdout",
          "text": [
            "<class 'pandas.core.frame.DataFrame'>\n",
            "Int64Index: 9898 entries, 0 to 9998\n",
            "Data columns (total 5 columns):\n",
            " #   Column         Non-Null Count  Dtype  \n",
            "---  ------         --------------  -----  \n",
            " 0   Temperature    9898 non-null   float64\n",
            " 1   Humidity       9898 non-null   float64\n",
            " 2   Light          9898 non-null   float64\n",
            " 3   CO2            9898 non-null   float64\n",
            " 4   HumidityRatio  9898 non-null   float64\n",
            "dtypes: float64(5)\n",
            "memory usage: 464.0 KB\n"
          ]
        }
      ],
      "source": [
        "df = df.dropna()\n",
        "df.info()"
      ]
    },
    {
      "cell_type": "code",
      "execution_count": 11,
      "metadata": {
        "id": "N6dvv87Pbhg0",
        "outputId": "99871637-d76d-476e-d0ec-0a738c8d8517",
        "colab": {
          "base_uri": "https://localhost:8080/",
          "height": 300
        }
      },
      "outputs": [
        {
          "output_type": "execute_result",
          "data": {
            "text/plain": [
              "       Temperature      Humidity        Light          CO2  HumidityRatio\n",
              "count  9898.000000   9898.000000  9898.000000  9898.000000    9898.000000\n",
              "mean     85.289824    478.969754   120.232916   607.146749       0.003861\n",
              "std     199.728631   1701.386088   195.555121   314.453658       0.000851\n",
              "min      19.000000     16.745000     0.000000   412.750000       0.002674\n",
              "25%      19.790000     20.650000     0.000000   439.333333       0.003084\n",
              "50%      20.600000     26.650000     0.000000   454.000000       0.003798\n",
              "75%      21.790000     31.500000   263.250000   642.666667       0.004350\n",
              "max    1019.500000  10026.000000  1546.333333  2028.500000       0.006476"
            ],
            "text/html": [
              "\n",
              "  <div id=\"df-80198322-fce6-4a64-864d-a1ef65abd4d6\">\n",
              "    <div class=\"colab-df-container\">\n",
              "      <div>\n",
              "<style scoped>\n",
              "    .dataframe tbody tr th:only-of-type {\n",
              "        vertical-align: middle;\n",
              "    }\n",
              "\n",
              "    .dataframe tbody tr th {\n",
              "        vertical-align: top;\n",
              "    }\n",
              "\n",
              "    .dataframe thead th {\n",
              "        text-align: right;\n",
              "    }\n",
              "</style>\n",
              "<table border=\"1\" class=\"dataframe\">\n",
              "  <thead>\n",
              "    <tr style=\"text-align: right;\">\n",
              "      <th></th>\n",
              "      <th>Temperature</th>\n",
              "      <th>Humidity</th>\n",
              "      <th>Light</th>\n",
              "      <th>CO2</th>\n",
              "      <th>HumidityRatio</th>\n",
              "    </tr>\n",
              "  </thead>\n",
              "  <tbody>\n",
              "    <tr>\n",
              "      <th>count</th>\n",
              "      <td>9898.000000</td>\n",
              "      <td>9898.000000</td>\n",
              "      <td>9898.000000</td>\n",
              "      <td>9898.000000</td>\n",
              "      <td>9898.000000</td>\n",
              "    </tr>\n",
              "    <tr>\n",
              "      <th>mean</th>\n",
              "      <td>85.289824</td>\n",
              "      <td>478.969754</td>\n",
              "      <td>120.232916</td>\n",
              "      <td>607.146749</td>\n",
              "      <td>0.003861</td>\n",
              "    </tr>\n",
              "    <tr>\n",
              "      <th>std</th>\n",
              "      <td>199.728631</td>\n",
              "      <td>1701.386088</td>\n",
              "      <td>195.555121</td>\n",
              "      <td>314.453658</td>\n",
              "      <td>0.000851</td>\n",
              "    </tr>\n",
              "    <tr>\n",
              "      <th>min</th>\n",
              "      <td>19.000000</td>\n",
              "      <td>16.745000</td>\n",
              "      <td>0.000000</td>\n",
              "      <td>412.750000</td>\n",
              "      <td>0.002674</td>\n",
              "    </tr>\n",
              "    <tr>\n",
              "      <th>25%</th>\n",
              "      <td>19.790000</td>\n",
              "      <td>20.650000</td>\n",
              "      <td>0.000000</td>\n",
              "      <td>439.333333</td>\n",
              "      <td>0.003084</td>\n",
              "    </tr>\n",
              "    <tr>\n",
              "      <th>50%</th>\n",
              "      <td>20.600000</td>\n",
              "      <td>26.650000</td>\n",
              "      <td>0.000000</td>\n",
              "      <td>454.000000</td>\n",
              "      <td>0.003798</td>\n",
              "    </tr>\n",
              "    <tr>\n",
              "      <th>75%</th>\n",
              "      <td>21.790000</td>\n",
              "      <td>31.500000</td>\n",
              "      <td>263.250000</td>\n",
              "      <td>642.666667</td>\n",
              "      <td>0.004350</td>\n",
              "    </tr>\n",
              "    <tr>\n",
              "      <th>max</th>\n",
              "      <td>1019.500000</td>\n",
              "      <td>10026.000000</td>\n",
              "      <td>1546.333333</td>\n",
              "      <td>2028.500000</td>\n",
              "      <td>0.006476</td>\n",
              "    </tr>\n",
              "  </tbody>\n",
              "</table>\n",
              "</div>\n",
              "      <button class=\"colab-df-convert\" onclick=\"convertToInteractive('df-80198322-fce6-4a64-864d-a1ef65abd4d6')\"\n",
              "              title=\"Convert this dataframe to an interactive table.\"\n",
              "              style=\"display:none;\">\n",
              "        \n",
              "  <svg xmlns=\"http://www.w3.org/2000/svg\" height=\"24px\"viewBox=\"0 0 24 24\"\n",
              "       width=\"24px\">\n",
              "    <path d=\"M0 0h24v24H0V0z\" fill=\"none\"/>\n",
              "    <path d=\"M18.56 5.44l.94 2.06.94-2.06 2.06-.94-2.06-.94-.94-2.06-.94 2.06-2.06.94zm-11 1L8.5 8.5l.94-2.06 2.06-.94-2.06-.94L8.5 2.5l-.94 2.06-2.06.94zm10 10l.94 2.06.94-2.06 2.06-.94-2.06-.94-.94-2.06-.94 2.06-2.06.94z\"/><path d=\"M17.41 7.96l-1.37-1.37c-.4-.4-.92-.59-1.43-.59-.52 0-1.04.2-1.43.59L10.3 9.45l-7.72 7.72c-.78.78-.78 2.05 0 2.83L4 21.41c.39.39.9.59 1.41.59.51 0 1.02-.2 1.41-.59l7.78-7.78 2.81-2.81c.8-.78.8-2.07 0-2.86zM5.41 20L4 18.59l7.72-7.72 1.47 1.35L5.41 20z\"/>\n",
              "  </svg>\n",
              "      </button>\n",
              "      \n",
              "  <style>\n",
              "    .colab-df-container {\n",
              "      display:flex;\n",
              "      flex-wrap:wrap;\n",
              "      gap: 12px;\n",
              "    }\n",
              "\n",
              "    .colab-df-convert {\n",
              "      background-color: #E8F0FE;\n",
              "      border: none;\n",
              "      border-radius: 50%;\n",
              "      cursor: pointer;\n",
              "      display: none;\n",
              "      fill: #1967D2;\n",
              "      height: 32px;\n",
              "      padding: 0 0 0 0;\n",
              "      width: 32px;\n",
              "    }\n",
              "\n",
              "    .colab-df-convert:hover {\n",
              "      background-color: #E2EBFA;\n",
              "      box-shadow: 0px 1px 2px rgba(60, 64, 67, 0.3), 0px 1px 3px 1px rgba(60, 64, 67, 0.15);\n",
              "      fill: #174EA6;\n",
              "    }\n",
              "\n",
              "    [theme=dark] .colab-df-convert {\n",
              "      background-color: #3B4455;\n",
              "      fill: #D2E3FC;\n",
              "    }\n",
              "\n",
              "    [theme=dark] .colab-df-convert:hover {\n",
              "      background-color: #434B5C;\n",
              "      box-shadow: 0px 1px 3px 1px rgba(0, 0, 0, 0.15);\n",
              "      filter: drop-shadow(0px 1px 2px rgba(0, 0, 0, 0.3));\n",
              "      fill: #FFFFFF;\n",
              "    }\n",
              "  </style>\n",
              "\n",
              "      <script>\n",
              "        const buttonEl =\n",
              "          document.querySelector('#df-80198322-fce6-4a64-864d-a1ef65abd4d6 button.colab-df-convert');\n",
              "        buttonEl.style.display =\n",
              "          google.colab.kernel.accessAllowed ? 'block' : 'none';\n",
              "\n",
              "        async function convertToInteractive(key) {\n",
              "          const element = document.querySelector('#df-80198322-fce6-4a64-864d-a1ef65abd4d6');\n",
              "          const dataTable =\n",
              "            await google.colab.kernel.invokeFunction('convertToInteractive',\n",
              "                                                     [key], {});\n",
              "          if (!dataTable) return;\n",
              "\n",
              "          const docLinkHtml = 'Like what you see? Visit the ' +\n",
              "            '<a target=\"_blank\" href=https://colab.research.google.com/notebooks/data_table.ipynb>data table notebook</a>'\n",
              "            + ' to learn more about interactive tables.';\n",
              "          element.innerHTML = '';\n",
              "          dataTable['output_type'] = 'display_data';\n",
              "          await google.colab.output.renderOutput(dataTable, element);\n",
              "          const docLink = document.createElement('div');\n",
              "          docLink.innerHTML = docLinkHtml;\n",
              "          element.appendChild(docLink);\n",
              "        }\n",
              "      </script>\n",
              "    </div>\n",
              "  </div>\n",
              "  "
            ]
          },
          "metadata": {},
          "execution_count": 11
        }
      ],
      "source": [
        "df.describe()"
      ]
    },
    {
      "cell_type": "code",
      "execution_count": 12,
      "metadata": {
        "id": "LGf19AVYbhg1"
      },
      "outputs": [],
      "source": [
        "temp = df.Temperature\n",
        "hum = df.Humidity\n",
        "co = df.CO2"
      ]
    },
    {
      "cell_type": "code",
      "execution_count": 13,
      "metadata": {
        "id": "BCoWGxMYbhg1",
        "outputId": "e59ed835-ae0a-4488-fdfe-c5a95c4be648",
        "colab": {
          "base_uri": "https://localhost:8080/"
        }
      },
      "outputs": [
        {
          "output_type": "stream",
          "name": "stdout",
          "text": [
            "Broker: broker.hivemq.com\n"
          ]
        }
      ],
      "source": [
        "# broker_list = ['broker.hivemq.com', 'mqtt.eclipseprojects.io', 'test.mosquitto.org']\n",
        "print(f\"Broker: {os.environ.get('BROKER')}\")"
      ]
    },
    {
      "cell_type": "code",
      "execution_count": 16,
      "metadata": {
        "id": "GpoOF-Bzbhg3",
        "outputId": "cf80921a-ee4b-42ca-aea9-ac68d7667384",
        "colab": {
          "base_uri": "https://localhost:8080/"
        }
      },
      "outputs": [
        {
          "output_type": "stream",
          "name": "stdout",
          "text": [
            "Just published Temperatura: 22.0, Humedad: 27.1, CO2: 557.0 al topic MNA/EQUIPO/09\n",
            "Just published Temperatura: 20.5, Humedad: 21.29, CO2: 435.5 al topic MNA/EQUIPO/09\n",
            "Just published Temperatura: 20.7, Humedad: 22.79, CO2: 455.5 al topic MNA/EQUIPO/09\n",
            "Just published Temperatura: 20.26, Humedad: 33.06, CO2: 452.3333333 al topic MNA/EQUIPO/09\n",
            "Just published Temperatura: 23.1, Humedad: 17.0, CO2: 451.0 al topic MNA/EQUIPO/09\n",
            "Just published Temperatura: 20.5, Humedad: 33.09, CO2: 572.0 al topic MNA/EQUIPO/09\n",
            "Sesión interrumpida\n"
          ]
        }
      ],
      "source": [
        "Connected = True\n",
        "mqttBroker = os.environ.get('BROKER')\n",
        "port = int(os.environ.get('PORT'))\n",
        "tag = os.environ.get('TAG')\n",
        "client = mqtt.Client(\"Python\")\n",
        "client.connect(host=mqttBroker, port=port)\n",
        "\n",
        "while Connected != False:\n",
        "    try:\n",
        "        for i,j,k in zip(temp, hum, co):\n",
        "            publicar = f'Temperatura: {i}, Humedad: {j}, CO2: {k}'\n",
        "            client.publish(tag, publicar)\n",
        "            print(f\"Just published {publicar} al topic {tag}\")\n",
        "            time.sleep(1)\n",
        "    except KeyboardInterrupt:\n",
        "        print('Sesión interrumpida')\n",
        "        client.disconnect()\n",
        "        Connected = False"
      ]
    }
  ],
  "metadata": {
    "kernelspec": {
      "display_name": "Python 3.9.12 ('tensorflow29')",
      "language": "python",
      "name": "python3"
    },
    "language_info": {
      "codemirror_mode": {
        "name": "ipython",
        "version": 3
      },
      "file_extension": ".py",
      "mimetype": "text/x-python",
      "name": "python",
      "nbconvert_exporter": "python",
      "pygments_lexer": "ipython3",
      "version": "3.9.12"
    },
    "orig_nbformat": 4,
    "vscode": {
      "interpreter": {
        "hash": "a8b51283e19ea4f556ad153052c0fc7e7aba70c909e803e78c247e2229cf6367"
      }
    },
    "colab": {
      "name": "pub_mqtt.ipynb",
      "provenance": []
    }
  },
  "nbformat": 4,
  "nbformat_minor": 0
}