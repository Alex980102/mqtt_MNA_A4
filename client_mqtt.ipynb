{
 "cells": [
  {
   "cell_type": "code",
   "execution_count": null,
   "metadata": {},
   "outputs": [],
   "source": [
    "import paho.mqtt.client as mqtt\n",
    "import time\n",
    "\n",
    "def on_message(client, userdata, message):\n",
    "    print(\"received message: \" ,str(message.payload.decode(\"utf-8\")))\n",
    "   \n",
    "\n",
    "mqttBroker =\"broker.hivemq.com\"\n",
    "client = mqtt.Client(\"Juan\")\n",
    "client.connect(mqttBroker) \n",
    "\n",
    "client.loop_start()\n",
    "\n",
    "client.subscribe(\"MNA09\")\n",
    "client.on_message=on_message \n",
    "\n",
    "time.sleep(100)\n",
    "client.loop_stop()"
   ]
  }
 ],
 "metadata": {
  "kernelspec": {
   "display_name": "Python 3.9.12 ('tensorflow29')",
   "language": "python",
   "name": "python3"
  },
  "language_info": {
   "name": "python",
   "version": "3.9.12"
  },
  "orig_nbformat": 4,
  "vscode": {
   "interpreter": {
    "hash": "a8b51283e19ea4f556ad153052c0fc7e7aba70c909e803e78c247e2229cf6367"
   }
  }
 },
 "nbformat": 4,
 "nbformat_minor": 2
}
