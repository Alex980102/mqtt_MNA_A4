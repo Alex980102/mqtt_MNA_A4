{
  "cells": [
    {
      "cell_type": "code",
      "execution_count": 1,
      "metadata": {
        "id": "ImaWQnh5gKgB",
        "outputId": "c674bf71-1088-4d20-cca6-3f6567782b78",
        "colab": {
          "base_uri": "https://localhost:8080/"
        }
      },
      "outputs": [
        {
          "output_type": "stream",
          "name": "stdout",
          "text": [
            "Cloning into 'mqtt_MNA_A4'...\n",
            "remote: Enumerating objects: 16, done.\u001b[K\n",
            "remote: Counting objects: 100% (16/16), done.\u001b[K\n",
            "remote: Compressing objects: 100% (13/13), done.\u001b[K\n",
            "remote: Total 16 (delta 3), reused 15 (delta 2), pack-reused 0\u001b[K\n",
            "Unpacking objects: 100% (16/16), done.\n"
          ]
        }
      ],
      "source": [
        "!git clone https://github.com/Alex980102/mqtt_MNA_A4.git"
      ]
    },
    {
      "cell_type": "code",
      "source": [
        "%cd /content/mqtt_MNA_A4/"
      ],
      "metadata": {
        "id": "joHNSLoIgNJD",
        "outputId": "359fdad1-ee16-48fe-f89e-d9ec664ebc97",
        "colab": {
          "base_uri": "https://localhost:8080/"
        }
      },
      "execution_count": 2,
      "outputs": [
        {
          "output_type": "stream",
          "name": "stdout",
          "text": [
            "/content/mqtt_MNA_A4\n"
          ]
        }
      ]
    },
    {
      "cell_type": "code",
      "source": [
        "!pip install -r requirements.txt"
      ],
      "metadata": {
        "id": "7OPoYWKjgPzr",
        "outputId": "367fec5a-5d4f-4a99-819b-5564380154ff",
        "colab": {
          "base_uri": "https://localhost:8080/"
        }
      },
      "execution_count": 3,
      "outputs": [
        {
          "output_type": "stream",
          "name": "stdout",
          "text": [
            "Looking in indexes: https://pypi.org/simple, https://us-python.pkg.dev/colab-wheels/public/simple/\n",
            "Collecting paho-mqtt\n",
            "  Downloading paho-mqtt-1.6.1.tar.gz (99 kB)\n",
            "\u001b[K     |████████████████████████████████| 99 kB 3.6 MB/s \n",
            "\u001b[?25hRequirement already satisfied: pandas in /usr/local/lib/python3.7/dist-packages (from -r requirements.txt (line 2)) (1.3.5)\n",
            "Collecting python-dotenv\n",
            "  Downloading python_dotenv-0.20.0-py3-none-any.whl (17 kB)\n",
            "Requirement already satisfied: numpy>=1.17.3 in /usr/local/lib/python3.7/dist-packages (from pandas->-r requirements.txt (line 2)) (1.21.6)\n",
            "Requirement already satisfied: pytz>=2017.3 in /usr/local/lib/python3.7/dist-packages (from pandas->-r requirements.txt (line 2)) (2022.1)\n",
            "Requirement already satisfied: python-dateutil>=2.7.3 in /usr/local/lib/python3.7/dist-packages (from pandas->-r requirements.txt (line 2)) (2.8.2)\n",
            "Requirement already satisfied: six>=1.5 in /usr/local/lib/python3.7/dist-packages (from python-dateutil>=2.7.3->pandas->-r requirements.txt (line 2)) (1.15.0)\n",
            "Building wheels for collected packages: paho-mqtt\n",
            "  Building wheel for paho-mqtt (setup.py) ... \u001b[?25l\u001b[?25hdone\n",
            "  Created wheel for paho-mqtt: filename=paho_mqtt-1.6.1-py3-none-any.whl size=62133 sha256=f5a12dd8df6d9ce3734ca826ed170231d842875267510406dc00e96decb8b1b2\n",
            "  Stored in directory: /root/.cache/pip/wheels/d0/bf/ac/2b3f43f8c6fcd0f4ba5395397458c521eb0b52d33b574a5a40\n",
            "Successfully built paho-mqtt\n",
            "Installing collected packages: python-dotenv, paho-mqtt\n",
            "Successfully installed paho-mqtt-1.6.1 python-dotenv-0.20.0\n"
          ]
        }
      ]
    },
    {
      "cell_type": "code",
      "source": [
        "import pandas as pd\n",
        "import paho.mqtt.client as mqtt\n",
        "import time\n",
        "from random import randint\n",
        "import os\n",
        "from dotenv import load_dotenv\n",
        "load_dotenv()"
      ],
      "metadata": {
        "id": "0FBtG0aPgRxb",
        "outputId": "9468775d-3570-4e87-b29f-e44ebe1db4bf",
        "colab": {
          "base_uri": "https://localhost:8080/"
        }
      },
      "execution_count": 4,
      "outputs": [
        {
          "output_type": "execute_result",
          "data": {
            "text/plain": [
              "True"
            ]
          },
          "metadata": {},
          "execution_count": 4
        }
      ]
    },
    {
      "cell_type": "code",
      "source": [
        "def on_message(client, userdata, message):\n",
        "    print(\"received message: \" ,str(message.payload.decode(\"utf-8\")))\n",
        "   \n",
        "\n",
        "mqttBroker = os.environ.get('BROKER')\n",
        "port = int(os.environ.get('PORT'))\n",
        "tag = os.environ.get('TAG')\n",
        "client = mqtt.Client()\n",
        "client.connect(mqttBroker)\n",
        "\n",
        "client.loop_start()\n",
        "\n",
        "client.subscribe(os.environ.get('TAG'))\n",
        "client.on_message=on_message \n",
        "\n",
        "time.sleep(100)\n",
        "client.loop_stop()"
      ],
      "metadata": {
        "id": "Duvy7fnrgWi9",
        "outputId": "96c57cd7-7e87-4485-936d-7f04b418f95c",
        "colab": {
          "base_uri": "https://localhost:8080/",
          "height": 347
        }
      },
      "execution_count": 8,
      "outputs": [
        {
          "output_type": "stream",
          "name": "stdout",
          "text": [
            "received message:  {\"Temperatura\": 21.365, \"Humedad\": 24.2225, \"C02\": 746.25}\n",
            "received message:  {\"Temperatura\": 22.2225, \"Humedad\": 17.675, \"C02\": 443.5}\n",
            "received message:  {\"Temperatura\": 671.79, \"Humedad\": 19.05, \"C02\": 629.75}\n",
            "received message:  {\"Temperatura\": 20.5, \"Humedad\": 18.945, \"C02\": 425.0}\n",
            "received message:  {\"Temperatura\": 20.39, \"Humedad\": 21.89, \"C02\": 435.0}\n",
            "received message:  {\"Temperatura\": 20.84, \"Humedad\": 23.34, \"C02\": 448.0}\n",
            "received message:  {\"Temperatura\": 19.6, \"Humedad\": 4467.6, \"C02\": 435.0}\n"
          ]
        },
        {
          "output_type": "error",
          "ename": "KeyboardInterrupt",
          "evalue": "ignored",
          "traceback": [
            "\u001b[0;31m---------------------------------------------------------------------------\u001b[0m",
            "\u001b[0;31mKeyboardInterrupt\u001b[0m                         Traceback (most recent call last)",
            "\u001b[0;32m<ipython-input-8-8388951686c6>\u001b[0m in \u001b[0;36m<module>\u001b[0;34m()\u001b[0m\n\u001b[1;32m     14\u001b[0m \u001b[0mclient\u001b[0m\u001b[0;34m.\u001b[0m\u001b[0mon_message\u001b[0m\u001b[0;34m=\u001b[0m\u001b[0mon_message\u001b[0m\u001b[0;34m\u001b[0m\u001b[0;34m\u001b[0m\u001b[0m\n\u001b[1;32m     15\u001b[0m \u001b[0;34m\u001b[0m\u001b[0m\n\u001b[0;32m---> 16\u001b[0;31m \u001b[0mtime\u001b[0m\u001b[0;34m.\u001b[0m\u001b[0msleep\u001b[0m\u001b[0;34m(\u001b[0m\u001b[0;36m100\u001b[0m\u001b[0;34m)\u001b[0m\u001b[0;34m\u001b[0m\u001b[0;34m\u001b[0m\u001b[0m\n\u001b[0m\u001b[1;32m     17\u001b[0m \u001b[0mclient\u001b[0m\u001b[0;34m.\u001b[0m\u001b[0mloop_stop\u001b[0m\u001b[0;34m(\u001b[0m\u001b[0;34m)\u001b[0m\u001b[0;34m\u001b[0m\u001b[0;34m\u001b[0m\u001b[0m\n",
            "\u001b[0;31mKeyboardInterrupt\u001b[0m: "
          ]
        }
      ]
    },
    {
      "cell_type": "code",
      "source": [
        ""
      ],
      "metadata": {
        "id": "A-OP-Et1grNZ"
      },
      "execution_count": null,
      "outputs": []
    }
  ],
  "metadata": {
    "kernelspec": {
      "display_name": "Python 3.9.12 ('tensorflow29')",
      "language": "python",
      "name": "python3"
    },
    "language_info": {
      "name": "python",
      "version": "3.9.12"
    },
    "orig_nbformat": 4,
    "vscode": {
      "interpreter": {
        "hash": "a8b51283e19ea4f556ad153052c0fc7e7aba70c909e803e78c247e2229cf6367"
      }
    },
    "colab": {
      "name": "client_mqtt.ipynb",
      "provenance": []
    }
  },
  "nbformat": 4,
  "nbformat_minor": 0
}